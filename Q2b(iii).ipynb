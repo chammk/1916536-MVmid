{
  "nbformat": 4,
  "nbformat_minor": 0,
  "metadata": {
    "colab": {
      "provenance": []
    },
    "kernelspec": {
      "name": "python3",
      "display_name": "Python 3"
    },
    "language_info": {
      "name": "python"
    }
  },
  "cells": [
    {
      "cell_type": "markdown",
      "source": [
        "# Question 2 b (iii)"
      ],
      "metadata": {
        "id": "6qJs_Ifmt3TZ"
      }
    },
    {
      "cell_type": "code",
      "execution_count": 2,
      "metadata": {
        "id": "BQ1qvGnmt1e4"
      },
      "outputs": [],
      "source": [
        "#Load libraries\n",
        "import os\n",
        "import numpy as np\n",
        "import torch\n",
        "import glob\n",
        "import torch.nn as nn\n",
        "from torchvision.transforms import transforms\n",
        "from torch.utils.data import DataLoader\n",
        "from torch.optim import Adam\n",
        "from torch.autograd import Variable\n",
        "import torchvision\n",
        "import pathlib\n",
        "import cv2\n",
        "from PIL import Image\n",
        "import torch.optim as optim\n",
        "from os import listdir,makedirs\n",
        "from os.path import isfile,join\n",
        "\n",
        "\n",
        "# Matplotlib is a visualizations library\n",
        "import matplotlib.pyplot as plt"
      ]
    },
    {
      "cell_type": "code",
      "source": [
        "from google.colab import drive\n",
        "drive.mount('/content/drive')"
      ],
      "metadata": {
        "colab": {
          "base_uri": "https://localhost:8080/"
        },
        "id": "pmutWrHWuAAA",
        "outputId": "e1f23dce-5fe4-4b48-b3b5-798f48b0e2db"
      },
      "execution_count": 3,
      "outputs": [
        {
          "output_type": "stream",
          "name": "stdout",
          "text": [
            "Mounted at /content/drive\n"
          ]
        }
      ]
    },
    {
      "cell_type": "code",
      "source": [
        "path = 'drive\\\\MyDrive\\\\MVmid\\\\'"
      ],
      "metadata": {
        "id": "So7K4mMFuOO_"
      },
      "execution_count": 4,
      "outputs": []
    },
    {
      "cell_type": "code",
      "source": [
        "#Set the input and output directories for the images\n",
        "input_dir1 = '//content/drive/MyDrive/MVmid/test/Covid'\n",
        "output_dir1 = '//content/drive/MyDrive/MVmid/testGray/Covid'\n",
        "input_dir2 = '//content/drive/MyDrive/MVmid/test/imageNormal1'\n",
        "output_dir2 = '//content/drive/MyDrive/MVmid/testGray/imageNormal1'\n",
        "input_dir3 = '//content/drive/MyDrive/MVmid/test/Pneumonia'\n",
        "output_dir3 ='//content/drive/MyDrive/MVmid/testGray/Pneumonia'\n",
        "\n",
        "input_dir4 = '//content/drive/MyDrive/MVmid/train1/Covid'\n",
        "output_dir4 = '//content/drive/MyDrive/MVmid/trainGray/Covid'\n",
        "input_dir5 = '//content/drive/MyDrive/MVmid/train1/imageNormal1'\n",
        "output_dir5 = '//content/drive/MyDrive/MVmid/trainGray/imageNormal1'\n",
        "input_dir6 = '//content/drive/MyDrive/MVmid/train1/Pneumonia'\n",
        "output_dir6 = '//content/drive/MyDrive/MVmid/trainGray/Pneumonia'"
      ],
      "metadata": {
        "id": "CpkfeF3SuQD7"
      },
      "execution_count": 6,
      "outputs": []
    },
    {
      "cell_type": "code",
      "source": [
        "# Define a function to convert grayscale images to RGB\n",
        "def convert_rgb_to_grayscale(input_dir, output_dir):\n",
        "    # Loop over the files in the input directory\n",
        "    for filename in os.listdir(input_dir):\n",
        "        # Load the grayscale image\n",
        "        gray_image = cv2.imread(os.path.join(input_dir, filename), cv2.IMREAD_GRAYSCALE)\n",
        "\n",
        "        # Save the grayscale image\n",
        "        cv2.imwrite(os.path.join(output_dir, filename), gray_image)\n",
        "\n",
        "\n",
        "\n",
        "\n",
        "# Convert the images in each directory\n",
        "convert_rgb_to_grayscale(input_dir1, output_dir1)\n",
        "convert_rgb_to_grayscale(input_dir2, output_dir2)\n",
        "convert_rgb_to_grayscale(input_dir3, output_dir3)\n",
        "convert_rgb_to_grayscale(input_dir4, output_dir4)\n",
        "convert_rgb_to_grayscale(input_dir5, output_dir5)\n",
        "convert_rgb_to_grayscale(input_dir6, output_dir6)"
      ],
      "metadata": {
        "id": "5VUCq6JIuaow"
      },
      "execution_count": 7,
      "outputs": []
    },
    {
      "cell_type": "code",
      "source": [
        "#First I will resize all images to 32 height and width just to be sure that iam using the images of same Size.\n",
        "#Transforms\n",
        "\n",
        "transformer = transforms.Compose(\n",
        "    [ transforms.Resize((32,32)),\n",
        "\n",
        "     transforms.ToTensor(),\n",
        "     transforms.Normalize((0.5,), (0.5,)),\n",
        "     transforms.Grayscale(num_output_channels=1)])\n",
        "\n",
        "batch_size = 32\n"
      ],
      "metadata": {
        "id": "Fkyt4yXxusEw"
      },
      "execution_count": 8,
      "outputs": []
    },
    {
      "cell_type": "code",
      "source": [
        "#Dataloader\n",
        "#Path for training and testing directory\n",
        "\n",
        "train_path= '//content/drive/MyDrive/MVmid/trainGray'\n",
        "test_path= '//content/drive/MyDrive/MVmid/testGray'\n",
        "\n",
        "trainloader=DataLoader(\n",
        "\n",
        "    torchvision.datasets.ImageFolder(train_path,transform=transformer),\n",
        "    batch_size=32, shuffle=True\n",
        "\n",
        ")\n",
        "\n",
        "testloader=DataLoader(\n",
        "\n",
        "    torchvision.datasets.ImageFolder(test_path,transform=transformer),\n",
        "    batch_size=32, shuffle=True\n",
        "\n",
        ")\n",
        "\n",
        "#categories\n",
        "root=pathlib.Path(train_path)\n",
        "classes=sorted ([j.name.split('/')[-1] for j in root.iterdir()])\n",
        "\n",
        "print(classes)\n",
        "\n",
        "\n",
        "train_data_size = len(trainloader.dataset)\n",
        "test_data_size = len(testloader.dataset)\n",
        "\n",
        "print(train_data_size)\n",
        "print(test_data_size)"
      ],
      "metadata": {
        "id": "CpoiHaPIuvD8",
        "outputId": "b443101b-2bd3-4714-ead4-7d28b8c56549",
        "colab": {
          "base_uri": "https://localhost:8080/"
        }
      },
      "execution_count": 9,
      "outputs": [
        {
          "output_type": "stream",
          "name": "stdout",
          "text": [
            "['Covid', 'Pneumonia', 'imageNormal1']\n",
            "251\n",
            "66\n"
          ]
        }
      ]
    },
    {
      "cell_type": "code",
      "source": [
        "#1. DEFINE THE CNN\n",
        "class CNN(nn.Module):\n",
        "    def __init__(self):\n",
        "\n",
        "        super(CNN, self).__init__()\n",
        "        self.conv1 = nn.Conv2d(1, 6, (5,5))\n",
        "        self.pool = nn.MaxPool2d(2, 2)\n",
        "        self.conv2 = nn.Conv2d(6, 16, 5)\n",
        "        self.pool2 = nn.MaxPool2d(2, stride=2, padding=0)\n",
        "        self.fc1 = nn.Linear(16 * 5 * 5, 120)\n",
        "        self.fc2 = nn.Linear(120, 10)\n",
        "        self.relu = nn.ReLU()\n",
        "\n",
        "    def forward(self, x):\n",
        "        x = self.pool(self.relu(self.conv1(x)))\n",
        "        x = self.pool(self.relu(self.conv2(x)))\n",
        "        x = x.view(-1, 16 * 5 * 5)\n",
        "        x = self.relu(self.fc1(x))\n",
        "        x = self.fc2(x)\n",
        "        return x"
      ],
      "metadata": {
        "id": "HQGJLXVku2yS"
      },
      "execution_count": 10,
      "outputs": []
    },
    {
      "cell_type": "code",
      "source": [
        "model = CNN() # need to instantiate the network to be used in instance method\n",
        "\n",
        "# 2. LOSS AND OPTIMIZER\n",
        "criterion = nn.CrossEntropyLoss()\n",
        "optimizer = optim.SGD(model.parameters(), lr=0.001, momentum=0.9)\n",
        "\n",
        "# 3. move the model to GPU\n",
        "device = torch.device('cuda:0' if torch.cuda.is_available() else 'cpu')\n",
        "model.to(device)"
      ],
      "metadata": {
        "id": "IZvN-i1Fu5Qh",
        "outputId": "149e9e6d-a8c8-4496-c7d0-57dd52b921c1",
        "colab": {
          "base_uri": "https://localhost:8080/"
        }
      },
      "execution_count": 11,
      "outputs": [
        {
          "output_type": "execute_result",
          "data": {
            "text/plain": [
              "CNN(\n",
              "  (conv1): Conv2d(1, 6, kernel_size=(5, 5), stride=(1, 1))\n",
              "  (pool): MaxPool2d(kernel_size=2, stride=2, padding=0, dilation=1, ceil_mode=False)\n",
              "  (conv2): Conv2d(6, 16, kernel_size=(5, 5), stride=(1, 1))\n",
              "  (pool2): MaxPool2d(kernel_size=2, stride=2, padding=0, dilation=1, ceil_mode=False)\n",
              "  (fc1): Linear(in_features=400, out_features=120, bias=True)\n",
              "  (fc2): Linear(in_features=120, out_features=10, bias=True)\n",
              "  (relu): ReLU()\n",
              ")"
            ]
          },
          "metadata": {},
          "execution_count": 11
        }
      ]
    },
    {
      "cell_type": "code",
      "source": [
        "import time # to calculate training time\n",
        "\n",
        "def train_and_validate(model, loss_criterion, optimizer, epochs=25):\n",
        "    '''\n",
        "    Function to train and validate\n",
        "    Parameters\n",
        "        :param model: Model to train and validate\n",
        "        :param loss_criterion: Loss Criterion to minimize\n",
        "        :param optimizer: Optimizer for computing gradients\n",
        "        :param epochs: Number of epochs (default=25)\n",
        "\n",
        "    Returns\n",
        "        model: Trained Model with best validation accuracy\n",
        "        history: (dict object): Having training loss, accuracy and validation loss, accuracy\n",
        "    '''\n",
        "\n",
        "    start = time.time()\n",
        "    history = []\n",
        "    best_acc = 0.0\n",
        "\n",
        "    for epoch in range(epochs):\n",
        "        epoch_start = time.time()\n",
        "        print(\"Epoch: {}/{}\".format(epoch+1, epochs))\n",
        "\n",
        "        # Set to training mode\n",
        "        model.train()\n",
        "\n",
        "        # Loss and Accuracy within the epoch\n",
        "        train_loss = 0.0\n",
        "        train_acc = 0.0\n",
        "\n",
        "        valid_loss = 0.0\n",
        "        valid_acc = 0.0\n",
        "\n",
        "        for i, (inputs, labels) in enumerate(trainloader):\n",
        "\n",
        "            inputs = inputs.to(device)\n",
        "            labels = labels.to(device)\n",
        "\n",
        "            # Clean existing gradients\n",
        "            optimizer.zero_grad()\n",
        "\n",
        "            # Forward pass - compute outputs on input data using the model\n",
        "            outputs = model(inputs)\n",
        "\n",
        "            # Compute loss\n",
        "            loss = loss_criterion(outputs, labels)\n",
        "\n",
        "            # Backpropagate the gradients\n",
        "            loss.backward()\n",
        "\n",
        "            # Update the parameters\n",
        "            optimizer.step()\n",
        "\n",
        "            # Compute the total loss for the batch and add it to train_loss\n",
        "            train_loss += loss.item() * inputs.size(0)\n",
        "\n",
        "            # Compute the accuracy\n",
        "            ret, predictions = torch.max(outputs.data, 1)\n",
        "            correct_counts = predictions.eq(labels.data.view_as(predictions))\n",
        "\n",
        "            # Convert correct_counts to float and then compute the mean\n",
        "            acc = torch.mean(correct_counts.type(torch.FloatTensor))\n",
        "\n",
        "            # Compute total accuracy in the whole batch and add to train_acc\n",
        "            train_acc += acc.item() * inputs.size(0)\n",
        "\n",
        "            #print(\"Batch number: {:03d}, Training: Loss: {:.4f}, Accuracy: {:.4f}\".format(i, loss.item(), acc.item()))\n",
        "\n",
        "\n",
        "        # Validation - No gradient tracking needed\n",
        "        with torch.no_grad():\n",
        "\n",
        "            # Set to evaluation mode\n",
        "            model.eval()\n",
        "\n",
        "            # Validation loop\n",
        "            for j, (inputs, labels) in enumerate(testloader):\n",
        "                inputs = inputs.to(device)\n",
        "                labels = labels.to(device)\n",
        "\n",
        "                # Forward pass - compute outputs on input data using the model\n",
        "                outputs = model(inputs)\n",
        "\n",
        "                # Compute loss\n",
        "                loss = loss_criterion(outputs, labels)\n",
        "\n",
        "                # Compute the total loss for the batch and add it to valid_loss\n",
        "                valid_loss += loss.item() * inputs.size(0)\n",
        "\n",
        "                # Calculate validation accuracy\n",
        "                ret, predictions = torch.max(outputs.data, 1)\n",
        "                correct_counts = predictions.eq(labels.data.view_as(predictions))\n",
        "\n",
        "                # Convert correct_counts to float and then compute the mean\n",
        "                acc = torch.mean(correct_counts.type(torch.FloatTensor))\n",
        "\n",
        "                # Compute total accuracy in the whole batch and add to valid_acc\n",
        "                valid_acc += acc.item() * inputs.size(0)\n",
        "\n",
        "                #print(\"Validation Batch number: {:03d}, Validation: Loss: {:.4f}, Accuracy: {:.4f}\".format(j, loss.item(), acc.item()))\n",
        "\n",
        "        # Find average training loss and training accuracy\n",
        "        avg_train_loss = train_loss/train_data_size\n",
        "        avg_train_acc = train_acc/train_data_size\n",
        "\n",
        "        # Find average training loss and training accuracy\n",
        "        avg_test_loss = valid_loss/test_data_size\n",
        "        avg_test_acc = valid_acc/test_data_size\n",
        "\n",
        "        history.append([avg_train_loss, avg_test_loss, avg_train_acc, avg_test_acc])\n",
        "\n",
        "        epoch_end = time.time()\n",
        "\n",
        "        print(\"Epoch : {:03d}, Training: Loss: {:.4f}, Accuracy: {:.4f}%, \\n\\t\\tValidation : Loss : {:.4f}, Accuracy: {:.4f}%, Time: {:.4f}s\".format(epoch, avg_train_loss, avg_train_acc*100, avg_test_loss, avg_test_acc*100, epoch_end-epoch_start))\n",
        "\n",
        "        # Save if the model has best accuracy till now\n",
        "        torch.save(model, 'cifar10_model_'+str(epoch)+'.pt')\n",
        "\n",
        "    return model, history"
      ],
      "metadata": {
        "id": "DIsO-Iuyu7qK"
      },
      "execution_count": 12,
      "outputs": []
    },
    {
      "cell_type": "code",
      "source": [
        "# 4. Train the model for 10 epochs\n",
        "\n",
        "num_epochs = 25\n",
        "trained_model, history = train_and_validate(model, criterion, optimizer, num_epochs)"
      ],
      "metadata": {
        "id": "6eo6NWN1vHbl",
        "outputId": "094d16a8-05c8-4f11-d938-aedb5ec41b3f",
        "colab": {
          "base_uri": "https://localhost:8080/"
        }
      },
      "execution_count": 13,
      "outputs": [
        {
          "output_type": "stream",
          "name": "stdout",
          "text": [
            "Epoch: 1/25\n",
            "Epoch : 000, Training: Loss: 2.2658, Accuracy: 27.8884%, \n",
            "\t\tValidation : Loss : 2.2498, Accuracy: 30.3030%, Time: 7.2422s\n",
            "Epoch: 2/25\n",
            "Epoch : 001, Training: Loss: 2.2396, Accuracy: 27.8884%, \n",
            "\t\tValidation : Loss : 2.2153, Accuracy: 30.3030%, Time: 6.2152s\n",
            "Epoch: 3/25\n",
            "Epoch : 002, Training: Loss: 2.1996, Accuracy: 27.8884%, \n",
            "\t\tValidation : Loss : 2.1709, Accuracy: 30.3030%, Time: 6.7029s\n",
            "Epoch: 4/25\n",
            "Epoch : 003, Training: Loss: 2.1504, Accuracy: 27.8884%, \n",
            "\t\tValidation : Loss : 2.1177, Accuracy: 30.3030%, Time: 6.1554s\n",
            "Epoch: 5/25\n",
            "Epoch : 004, Training: Loss: 2.0899, Accuracy: 27.8884%, \n",
            "\t\tValidation : Loss : 2.0516, Accuracy: 30.3030%, Time: 6.7418s\n",
            "Epoch: 6/25\n",
            "Epoch : 005, Training: Loss: 2.0141, Accuracy: 27.8884%, \n",
            "\t\tValidation : Loss : 1.9653, Accuracy: 30.3030%, Time: 6.2280s\n",
            "Epoch: 7/25\n",
            "Epoch : 006, Training: Loss: 1.9120, Accuracy: 32.6693%, \n",
            "\t\tValidation : Loss : 1.8475, Accuracy: 37.8788%, Time: 6.8223s\n",
            "Epoch: 8/25\n",
            "Epoch : 007, Training: Loss: 1.7701, Accuracy: 51.3944%, \n",
            "\t\tValidation : Loss : 1.6847, Accuracy: 59.0909%, Time: 6.2579s\n",
            "Epoch: 9/25\n",
            "Epoch : 008, Training: Loss: 1.5827, Accuracy: 50.5976%, \n",
            "\t\tValidation : Loss : 1.4834, Accuracy: 39.3939%, Time: 6.6658s\n",
            "Epoch: 10/25\n",
            "Epoch : 009, Training: Loss: 1.3701, Accuracy: 44.2231%, \n",
            "\t\tValidation : Loss : 1.2921, Accuracy: 39.3939%, Time: 6.5876s\n",
            "Epoch: 11/25\n",
            "Epoch : 010, Training: Loss: 1.2005, Accuracy: 44.2231%, \n",
            "\t\tValidation : Loss : 1.1666, Accuracy: 39.3939%, Time: 6.3623s\n",
            "Epoch: 12/25\n",
            "Epoch : 011, Training: Loss: 1.0926, Accuracy: 44.2231%, \n",
            "\t\tValidation : Loss : 1.0770, Accuracy: 39.3939%, Time: 6.8057s\n",
            "Epoch: 13/25\n",
            "Epoch : 012, Training: Loss: 1.0280, Accuracy: 51.3944%, \n",
            "\t\tValidation : Loss : 1.0301, Accuracy: 56.0606%, Time: 6.2190s\n",
            "Epoch: 14/25\n",
            "Epoch : 013, Training: Loss: 0.9917, Accuracy: 58.5657%, \n",
            "\t\tValidation : Loss : 0.9981, Accuracy: 50.0000%, Time: 6.8234s\n",
            "Epoch: 15/25\n",
            "Epoch : 014, Training: Loss: 0.9538, Accuracy: 63.7450%, \n",
            "\t\tValidation : Loss : 0.9608, Accuracy: 68.1818%, Time: 6.2399s\n",
            "Epoch: 16/25\n",
            "Epoch : 015, Training: Loss: 0.9197, Accuracy: 66.1355%, \n",
            "\t\tValidation : Loss : 0.9270, Accuracy: 75.7576%, Time: 6.7858s\n",
            "Epoch: 17/25\n",
            "Epoch : 016, Training: Loss: 0.8775, Accuracy: 72.1116%, \n",
            "\t\tValidation : Loss : 0.8891, Accuracy: 66.6667%, Time: 6.1752s\n",
            "Epoch: 18/25\n",
            "Epoch : 017, Training: Loss: 0.8342, Accuracy: 72.5100%, \n",
            "\t\tValidation : Loss : 0.8447, Accuracy: 74.2424%, Time: 6.7833s\n",
            "Epoch: 19/25\n",
            "Epoch : 018, Training: Loss: 0.7823, Accuracy: 73.3068%, \n",
            "\t\tValidation : Loss : 0.8007, Accuracy: 69.6970%, Time: 6.2525s\n",
            "Epoch: 20/25\n",
            "Epoch : 019, Training: Loss: 0.7345, Accuracy: 82.4701%, \n",
            "\t\tValidation : Loss : 0.7543, Accuracy: 69.6970%, Time: 6.7561s\n",
            "Epoch: 21/25\n",
            "Epoch : 020, Training: Loss: 0.6866, Accuracy: 79.6813%, \n",
            "\t\tValidation : Loss : 0.7030, Accuracy: 78.7879%, Time: 6.3517s\n",
            "Epoch: 22/25\n",
            "Epoch : 021, Training: Loss: 0.6306, Accuracy: 83.2669%, \n",
            "\t\tValidation : Loss : 0.6719, Accuracy: 74.2424%, Time: 6.5498s\n",
            "Epoch: 23/25\n",
            "Epoch : 022, Training: Loss: 0.5882, Accuracy: 83.6653%, \n",
            "\t\tValidation : Loss : 0.6217, Accuracy: 80.3030%, Time: 6.6424s\n",
            "Epoch: 24/25\n",
            "Epoch : 023, Training: Loss: 0.5439, Accuracy: 84.0637%, \n",
            "\t\tValidation : Loss : 0.6014, Accuracy: 75.7576%, Time: 6.2943s\n",
            "Epoch: 25/25\n",
            "Epoch : 024, Training: Loss: 0.5117, Accuracy: 86.8526%, \n",
            "\t\tValidation : Loss : 0.5658, Accuracy: 77.2727%, Time: 6.6868s\n"
          ]
        }
      ]
    },
    {
      "cell_type": "code",
      "source": [
        "# 5. Analyze the loss curve\n",
        "\n",
        "history = np.array(history)\n",
        "plt.plot(history[:,0:2])\n",
        "plt.legend(['Tr Loss', 'Val Loss'])\n",
        "plt.xlabel('Epoch Number')\n",
        "plt.ylabel('Loss')\n",
        "plt.ylim(0,3)\n",
        "# plt.savefig('cifar10_loss_curve.png')\n",
        "plt.show()"
      ],
      "metadata": {
        "id": "fKlkvTRdvJ3n",
        "outputId": "e3357363-5951-42f1-8d1a-db7f22f56ab9",
        "colab": {
          "base_uri": "https://localhost:8080/",
          "height": 455
        }
      },
      "execution_count": 14,
      "outputs": [
        {
          "output_type": "display_data",
          "data": {
            "text/plain": [
              "<Figure size 640x480 with 1 Axes>"
            ],
            "image/png": "[encoded data removed]"
          },
          "metadata": {}
        }
      ]
    },
    {
      "cell_type": "code",
      "source": [
        "# 6. Analyze the accuracy curve\n",
        "\n",
        "plt.plot(history[:,2:4])\n",
        "plt.legend(['Tr Accuracy', 'Val Accuracy'])\n",
        "plt.xlabel('Epoch Number')\n",
        "plt.ylabel('Accuracy')\n",
        "plt.ylim(0,1)\n",
        "# plt.savefig('cifar10_accuracy_curve.png')\n",
        "plt.show()"
      ],
      "metadata": {
        "id": "tQ9kaHCVvM6q",
        "outputId": "138942a3-6133-42bc-b42d-54abbc128b8f",
        "colab": {
          "base_uri": "https://localhost:8080/",
          "height": 455
        }
      },
      "execution_count": 16,
      "outputs": [
        {
          "output_type": "display_data",
          "data": {
            "text/plain": [
              "<Figure size 640x480 with 1 Axes>"
            ],
            "image/png": "[encoded data removed]"
          },
          "metadata": {}
        }
      ]
    },
    {
      "cell_type": "code",
      "source": [
        "correct = 0\n",
        "total = 0\n",
        "# since we're not training, we don't need to calculate the gradients for our outputs\n",
        "with torch.no_grad():\n",
        "    for data in testloader:\n",
        "#         images, labels = data\n",
        "        images, labels = data[0].to(device), data[1].to(device)\n",
        "        # calculate outputs by running images through the network\n",
        "#         images = images.view(images.size(0), -1)\n",
        "        outputs = model(images)\n",
        "        # the class with the highest energy is what we choose as prediction\n",
        "        _, predicted = torch.max(outputs.data, 1)\n",
        "        total += labels.size(0)\n",
        "        correct += (predicted == labels).sum().item()\n",
        "\n",
        "print(f'Accuracy of the network on the 10000 test images: {100 * correct // total} %')"
      ],
      "metadata": {
        "id": "uYYfZLY8vPBF",
        "outputId": "8e44a9ad-854e-451d-f5f0-0a801ba8b67e",
        "colab": {
          "base_uri": "https://localhost:8080/"
        }
      },
      "execution_count": 17,
      "outputs": [
        {
          "output_type": "stream",
          "name": "stdout",
          "text": [
            "Accuracy of the network on the 10000 test images: 77 %\n"
          ]
        }
      ]
    },
    {
      "cell_type": "code",
      "source": [
        "# prepare to count predictions for each class\n",
        "correct_pred = {classname: 0 for classname in classes}\n",
        "total_pred = {classname: 0 for classname in classes}\n",
        "\n",
        "# again no gradients needed\n",
        "with torch.no_grad():\n",
        "    for data in testloader:\n",
        "        images, labels = data[0].to(device), data[1].to(device)\n",
        "#         images = images.view(images.size(0), -1)\n",
        "        outputs = model(images)\n",
        "        _, predictions = torch.max(outputs, 1)\n",
        "        # collect the correct predictions for each class\n",
        "        for label, prediction in zip(labels, predictions):\n",
        "            if label == prediction:\n",
        "                correct_pred[classes[label]] += 1\n",
        "            total_pred[classes[label]] += 1\n",
        "\n",
        "\n",
        "# print accuracy for each class\n",
        "for classname, correct_count in correct_pred.items():\n",
        "    accuracy = 100 * float(correct_count) / total_pred[classname]\n",
        "    print(f'Accuracy for class: {classname:5s} is {accuracy:.1f} %')"
      ],
      "metadata": {
        "id": "r20nYsHuvRRr",
        "outputId": "5cd7c5df-9c63-4f55-d428-e66a2dc4cb51",
        "colab": {
          "base_uri": "https://localhost:8080/"
        }
      },
      "execution_count": 18,
      "outputs": [
        {
          "output_type": "stream",
          "name": "stdout",
          "text": [
            "Accuracy for class: Covid is 84.6 %\n",
            "Accuracy for class: Pneumonia is 90.0 %\n",
            "Accuracy for class: imageNormal1 is 55.0 %\n"
          ]
        }
      ]
    },
    {
      "cell_type": "code",
      "source": [
        "from sklearn.metrics import confusion_matrix\n",
        "import seaborn as sn\n",
        "import pandas as pd\n",
        "\n",
        "y_pred = []\n",
        "y_true = []\n",
        "\n",
        "model.to('cpu')\n",
        "\n",
        "# iterate over test data\n",
        "for inputs, labels in testloader:\n",
        "#         #reshape images so they can be fed to a nn.Linear()\n",
        "#         inputs = inputs.view(inputs.size(0), -1)\n",
        "        output = model(inputs) # Feed Network\n",
        "\n",
        "        output = (torch.max(torch.exp(output), 1)[1]).data.cpu().numpy()\n",
        "        y_pred.extend(output) # Save Prediction\n",
        "\n",
        "        labels = labels.data.cpu().numpy()\n",
        "        y_true.extend(labels) # Save Truth\n",
        "\n",
        "\n",
        "# Build confusion matrix\n",
        "cf_matrix = confusion_matrix(y_true, y_pred)\n",
        "df_cm = pd.DataFrame(cf_matrix/np.sum(cf_matrix) *10, index = [i for i in classes],\n",
        "                     columns = [i for i in classes])\n",
        "plt.figure(figsize = (20,10))\n",
        "sn.heatmap(df_cm, annot=True)\n",
        "# plt.savefig('output.png')"
      ],
      "metadata": {
        "id": "8CjtvHtpvULj",
        "outputId": "cb76da7c-16db-4700-d108-176aabdaacff",
        "colab": {
          "base_uri": "https://localhost:8080/",
          "height": 847
        }
      },
      "execution_count": 19,
      "outputs": [
        {
          "output_type": "execute_result",
          "data": {
            "text/plain": [
              "<Axes: >"
            ]
          },
          "metadata": {},
          "execution_count": 19
        },
        {
          "output_type": "display_data",
          "data": {
            "text/plain": [
              "<Figure size 2000x1000 with 2 Axes>"
            ],
            "image/png": "[encoded data removed]"
          },
          "metadata": {}
        }
      ]
    }
  ]
}