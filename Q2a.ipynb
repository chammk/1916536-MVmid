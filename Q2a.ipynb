{
  "nbformat": 4,
  "nbformat_minor": 0,
  "metadata": {
    "colab": {
      "provenance": []
    },
    "kernelspec": {
      "name": "python3",
      "display_name": "Python 3"
    },
    "language_info": {
      "name": "python"
    }
  },
  "cells": [
    {
      "cell_type": "markdown",
      "source": [],
      "metadata": {
        "id": "D1etct1ssucS"
      }
    },
    {
      "cell_type": "markdown",
      "source": [
        "# Question 2 a"
      ],
      "metadata": {
        "id": "HjRF86IX9abX"
      }
    },
    {
      "cell_type": "code",
      "execution_count": 3,
      "metadata": {
        "id": "fEzY4phw229v"
      },
      "outputs": [],
      "source": [
        "#Load needed libraries\n",
        "import os\n",
        "import numpy as np\n",
        "import torch\n",
        "import glob\n",
        "import torch.nn as nn\n",
        "from torchvision.transforms import transforms\n",
        "from torch.utils.data import DataLoader\n",
        "from torch.optim import Adam\n",
        "from torch.autograd import Variable\n",
        "import torchvision\n",
        "import pathlib\n",
        "import cv2\n",
        "from PIL import Image\n",
        "import torch.optim as optim\n",
        "from os import listdir,makedirs\n",
        "from os.path import isfile,join\n",
        "\n",
        "\n",
        "#import Matplotlib library (visualizations )\n",
        "import matplotlib.pyplot as plt"
      ]
    },
    {
      "cell_type": "code",
      "source": [
        "from google.colab import drive\n",
        "drive.mount('/content/drive')"
      ],
      "metadata": {
        "colab": {
          "base_uri": "https://localhost:8080/"
        },
        "id": "nS-rGy3x_3wD",
        "outputId": "cd1a886f-57b8-40f9-a648-8af6d10af853"
      },
      "execution_count": 7,
      "outputs": [
        {
          "output_type": "stream",
          "name": "stdout",
          "text": [
            "Drive already mounted at /content/drive; to attempt to forcibly remount, call drive.mount(\"/content/drive\", force_remount=True).\n"
          ]
        }
      ]
    },
    {
      "cell_type": "code",
      "source": [
        "path = 'drive\\\\MyDrive\\\\MVmid\\\\'"
      ],
      "metadata": {
        "id": "vSOALPRLAFqI"
      },
      "execution_count": 11,
      "outputs": []
    },
    {
      "cell_type": "code",
      "source": [
        "#Set the input and output directories for the images\n",
        "input_dir1 = '//content/drive/MyDrive/MVmid/test/Covid'\n",
        "output_dir1 = '//content/drive/MyDrive/MVmid/testGray/Covid'\n",
        "input_dir2 = '//content/drive/MyDrive/MVmid/test/imageNormal1'\n",
        "output_dir2 = '//content/drive/MyDrive/MVmid/testGray/imageNormal1'\n",
        "input_dir3 = '//content/drive/MyDrive/MVmid/test/Pneumonia'\n",
        "output_dir3 ='//content/drive/MyDrive/MVmid/testGray/Pneumonia'\n",
        "\n",
        "input_dir4 = '//content/drive/MyDrive/MVmid/train1/Covid'\n",
        "output_dir4 = '//content/drive/MyDrive/MVmid/trainGray/Covid'\n",
        "input_dir5 = '//content/drive/MyDrive/MVmid/train1/imageNormal1'\n",
        "output_dir5 = '//content/drive/MyDrive/MVmid/trainGray/imageNormal1'\n",
        "input_dir6 = '//content/drive/MyDrive/MVmid/train1/Pneumonia'\n",
        "output_dir6 = '//content/drive/MyDrive/MVmid/trainGray/Pneumonia'\n"
      ],
      "metadata": {
        "id": "KUe70vsqAG8J"
      },
      "execution_count": 18,
      "outputs": []
    },
    {
      "cell_type": "code",
      "source": [
        "\n",
        "#The code transforms grayscale images to RGB format, resizes them to 150x150 pixels, and utilizes a transformer object for various operations,such as random horizontal flipping, converting images to tensors, and normalization.\n",
        "#Data loaders for training and testing are created, and a ConvNet class is defined for a convolutional neural network (CNN) model.\n",
        "#This model can be trained on the transformed images and used for making predictions."
      ],
      "metadata": {
        "id": "cF4taC66BHqt"
      },
      "execution_count": 6,
      "outputs": []
    },
    {
      "cell_type": "code",
      "source": [
        "# Define a function to convert grayscale images to RGB\n",
        "def convert_rgb_to_grayscale(input_dir, output_dir):\n",
        "    # Loop over the files in the input directory\n",
        "    for filename in os.listdir(input_dir):\n",
        "        # Load the grayscale image\n",
        "        gray_image = cv2.imread(os.path.join(input_dir, filename), cv2.IMREAD_GRAYSCALE)\n",
        "\n",
        "        # Save the grayscale image\n",
        "        cv2.imwrite(os.path.join(output_dir, filename), gray_image)\n",
        "\n",
        "\n",
        "\n",
        "\n",
        "# Convert the images in each directory\n",
        "convert_rgb_to_grayscale(input_dir1, output_dir1)\n",
        "convert_rgb_to_grayscale(input_dir2, output_dir2)\n",
        "convert_rgb_to_grayscale(input_dir3, output_dir3)\n",
        "convert_rgb_to_grayscale(input_dir4, output_dir4)\n",
        "convert_rgb_to_grayscale(input_dir5, output_dir5)\n",
        "convert_rgb_to_grayscale(input_dir6, output_dir6)\n"
      ],
      "metadata": {
        "id": "WCI9Z89AAN65"
      },
      "execution_count": 19,
      "outputs": []
    },
    {
      "cell_type": "code",
      "source": [
        "#First resize all images to 32 height and width.\n",
        "#Transforms\n",
        "\n",
        "transformer = transforms.Compose(\n",
        "    [ transforms.Resize((32,32)),\n",
        "\n",
        "     transforms.ToTensor(),\n",
        "     transforms.Normalize((0.5,), (0.5,)),\n",
        "     transforms.Grayscale(num_output_channels=1)])\n",
        "\n",
        "batch_size = 32"
      ],
      "metadata": {
        "id": "j2ZK8fpLBZxo"
      },
      "execution_count": 20,
      "outputs": []
    },
    {
      "cell_type": "code",
      "source": [
        "#Dataloader\n",
        "#Path for training and testing directory\n",
        "\n",
        "train_path= '//content/drive/MyDrive/MVmid/trainGray'\n",
        "test_path= '//content/drive/MyDrive/MVmid/testGray'\n",
        "\n",
        "trainloader=DataLoader(\n",
        "\n",
        "    torchvision.datasets.ImageFolder(train_path,transform=transformer),\n",
        "    batch_size=32, shuffle=True\n",
        "\n",
        ")\n",
        "\n",
        "testloader=DataLoader(\n",
        "\n",
        "    torchvision.datasets.ImageFolder(test_path,transform=transformer),\n",
        "    batch_size=32, shuffle=True\n",
        "\n",
        ")\n",
        "\n",
        "#categories\n",
        "root=pathlib.Path(train_path)\n",
        "classes=sorted ([j.name.split('/')[-1] for j in root.iterdir()])\n",
        "\n",
        "print(classes)\n",
        "\n",
        "\n",
        "train_data_size = len(trainloader.dataset)\n",
        "test_data_size = len(testloader.dataset)\n",
        "\n",
        "print(train_data_size)\n",
        "print(test_data_size)"
      ],
      "metadata": {
        "colab": {
          "base_uri": "https://localhost:8080/"
        },
        "id": "LF8ry4e0BsVz",
        "outputId": "2775b391-4705-4170-b376-2279f6e25d51"
      },
      "execution_count": 22,
      "outputs": [
        {
          "output_type": "stream",
          "name": "stdout",
          "text": [
            "['Covid', 'Pneumonia', 'imageNormal1']\n",
            "251\n",
            "66\n"
          ]
        }
      ]
    },
    {
      "cell_type": "code",
      "source": [
        "#1. DEFINE THE CNN\n",
        "class CNN(nn.Module):\n",
        "    def __init__(self):\n",
        "\n",
        "        super(CNN, self).__init__()\n",
        "        self.conv1 = nn.Conv2d(1, 6, (5,5))\n",
        "        self.pool = nn.MaxPool2d(2, 2)\n",
        "        self.conv2 = nn.Conv2d(6, 16, 5)\n",
        "        self.pool2 = nn.MaxPool2d(2, stride=2, padding=0)\n",
        "        self.fc1 = nn.Linear(16 * 5 * 5, 120)\n",
        "        self.fc2 = nn.Linear(120, 10)\n",
        "        self.relu = nn.ReLU()\n",
        "\n",
        "    def forward(self, x):\n",
        "        x = self.pool(self.relu(self.conv1(x)))\n",
        "        x = self.pool(self.relu(self.conv2(x)))\n",
        "        x = x.view(-1, 16 * 5 * 5)\n",
        "        x = self.relu(self.fc1(x))\n",
        "        x = self.fc2(x)\n",
        "        return x\n"
      ],
      "metadata": {
        "id": "meJQBzweBzQ_"
      },
      "execution_count": 23,
      "outputs": []
    },
    {
      "cell_type": "code",
      "source": [
        "model = CNN() # need to instantiate the network to be used in instance method\n",
        "\n",
        "# 2. LOSS AND OPTIMIZER\n",
        "criterion = nn.CrossEntropyLoss()\n",
        "optimizer = optim.SGD(model.parameters(), lr=0.001, momentum=0.9)\n",
        "\n",
        "# 3. move the model to GPU\n",
        "device = torch.device('cuda:0' if torch.cuda.is_available() else 'cpu')\n",
        "model.to(device)"
      ],
      "metadata": {
        "id": "4XxiTbfBB20r",
        "colab": {
          "base_uri": "https://localhost:8080/"
        },
        "outputId": "aab040cd-af08-4b13-f41e-9dc4592de063"
      },
      "execution_count": 24,
      "outputs": [
        {
          "output_type": "execute_result",
          "data": {
            "text/plain": [
              "CNN(\n",
              "  (conv1): Conv2d(1, 6, kernel_size=(5, 5), stride=(1, 1))\n",
              "  (pool): MaxPool2d(kernel_size=2, stride=2, padding=0, dilation=1, ceil_mode=False)\n",
              "  (conv2): Conv2d(6, 16, kernel_size=(5, 5), stride=(1, 1))\n",
              "  (pool2): MaxPool2d(kernel_size=2, stride=2, padding=0, dilation=1, ceil_mode=False)\n",
              "  (fc1): Linear(in_features=400, out_features=120, bias=True)\n",
              "  (fc2): Linear(in_features=120, out_features=10, bias=True)\n",
              "  (relu): ReLU()\n",
              ")"
            ]
          },
          "metadata": {},
          "execution_count": 24
        }
      ]
    },
    {
      "cell_type": "code",
      "source": [
        "import time # to calculate training time\n",
        "\n",
        "def train_and_validate(model, loss_criterion, optimizer, epochs=25):\n",
        "    '''\n",
        "    Function to train and validate\n",
        "    Parameters\n",
        "        :param model: Model to train and validate\n",
        "        :param loss_criterion: Loss Criterion to minimize\n",
        "        :param optimizer: Optimizer for computing gradients\n",
        "        :param epochs: Number of epochs (default=25)\n",
        "\n",
        "    Returns\n",
        "        model: Trained Model with best validation accuracy\n",
        "        history: (dict object): Having training loss, accuracy and validation loss, accuracy\n",
        "    '''\n",
        "\n",
        "    start = time.time()\n",
        "    history = []\n",
        "    best_acc = 0.0\n",
        "\n",
        "    for epoch in range(epochs):\n",
        "        epoch_start = time.time()\n",
        "        print(\"Epoch: {}/{}\".format(epoch+1, epochs))\n",
        "\n",
        "        # Set to training mode\n",
        "        model.train()\n",
        "\n",
        "        # Loss and Accuracy within the epoch\n",
        "        train_loss = 0.0\n",
        "        train_acc = 0.0\n",
        "\n",
        "        valid_loss = 0.0\n",
        "        valid_acc = 0.0\n",
        "\n",
        "        for i, (inputs, labels) in enumerate(trainloader):\n",
        "\n",
        "            inputs = inputs.to(device)\n",
        "            labels = labels.to(device)\n",
        "\n",
        "            # Clean existing gradients\n",
        "            optimizer.zero_grad()\n",
        "\n",
        "            # Forward pass - compute outputs on input data using the model\n",
        "            outputs = model(inputs)\n",
        "\n",
        "            # Compute loss\n",
        "            loss = loss_criterion(outputs, labels)\n",
        "\n",
        "            # Backpropagate the gradients\n",
        "            loss.backward()\n",
        "\n",
        "            # Update the parameters\n",
        "            optimizer.step()\n",
        "\n",
        "            # Compute the total loss for the batch and add it to train_loss\n",
        "            train_loss += loss.item() * inputs.size(0)\n",
        "\n",
        "            # Compute the accuracy\n",
        "            ret, predictions = torch.max(outputs.data, 1)\n",
        "            correct_counts = predictions.eq(labels.data.view_as(predictions))\n",
        "\n",
        "            # Convert correct_counts to float and then compute the mean\n",
        "            acc = torch.mean(correct_counts.type(torch.FloatTensor))\n",
        "\n",
        "            # Compute total accuracy in the whole batch and add to train_acc\n",
        "            train_acc += acc.item() * inputs.size(0)\n",
        "\n",
        "            #print(\"Batch number: {:03d}, Training: Loss: {:.4f}, Accuracy: {:.4f}\".format(i, loss.item(), acc.item()))\n",
        "\n",
        "\n",
        "        # Validation - No gradient tracking needed\n",
        "        with torch.no_grad():\n",
        "\n",
        "            # Set to evaluation mode\n",
        "            model.eval()\n",
        "\n",
        "            # Validation loop\n",
        "            for j, (inputs, labels) in enumerate(testloader):\n",
        "                inputs = inputs.to(device)\n",
        "                labels = labels.to(device)\n",
        "\n",
        "                # Forward pass - compute outputs on input data using the model\n",
        "                outputs = model(inputs)\n",
        "\n",
        "                # Compute loss\n",
        "                loss = loss_criterion(outputs, labels)\n",
        "\n",
        "                # Compute the total loss for the batch and add it to valid_loss\n",
        "                valid_loss += loss.item() * inputs.size(0)\n",
        "\n",
        "                # Calculate validation accuracy\n",
        "                ret, predictions = torch.max(outputs.data, 1)\n",
        "                correct_counts = predictions.eq(labels.data.view_as(predictions))\n",
        "\n",
        "                # Convert correct_counts to float and then compute the mean\n",
        "                acc = torch.mean(correct_counts.type(torch.FloatTensor))\n",
        "\n",
        "                # Compute total accuracy in the whole batch and add to valid_acc\n",
        "                valid_acc += acc.item() * inputs.size(0)\n",
        "\n",
        "                #print(\"Validation Batch number: {:03d}, Validation: Loss: {:.4f}, Accuracy: {:.4f}\".format(j, loss.item(), acc.item()))\n",
        "\n",
        "        # Find average training loss and training accuracy\n",
        "        avg_train_loss = train_loss/train_data_size\n",
        "        avg_train_acc = train_acc/train_data_size\n",
        "\n",
        "        # Find average training loss and training accuracy\n",
        "        avg_test_loss = valid_loss/test_data_size\n",
        "        avg_test_acc = valid_acc/test_data_size\n",
        "\n",
        "        history.append([avg_train_loss, avg_test_loss, avg_train_acc, avg_test_acc])\n",
        "\n",
        "        epoch_end = time.time()\n",
        "\n",
        "        print(\"Epoch : {:03d}, Training: Loss: {:.4f}, Accuracy: {:.4f}%, \\n\\t\\tValidation : Loss : {:.4f}, Accuracy: {:.4f}%, Time: {:.4f}s\".format(epoch, avg_train_loss, avg_train_acc*100, avg_test_loss, avg_test_acc*100, epoch_end-epoch_start))\n",
        "\n",
        "        # Save if the model has best accuracy till now\n",
        "        torch.save(model, 'cifar10_model_'+str(epoch)+'.pt')\n",
        "\n",
        "    return model, history"
      ],
      "metadata": {
        "id": "nRv_HMV1B6GA"
      },
      "execution_count": 25,
      "outputs": []
    },
    {
      "cell_type": "code",
      "source": [
        "# 4. Train the model for 10 epochs\n",
        "\n",
        "num_epochs = 25\n",
        "trained_model, history = train_and_validate(model, criterion, optimizer, num_epochs)"
      ],
      "metadata": {
        "id": "WoQuvO6NCA8L",
        "colab": {
          "base_uri": "https://localhost:8080/"
        },
        "outputId": "8e4b0bc3-ffb8-4f24-8708-0288ce218db4"
      },
      "execution_count": 26,
      "outputs": [
        {
          "output_type": "stream",
          "name": "stdout",
          "text": [
            "Epoch: 1/25\n",
            "Epoch : 000, Training: Loss: 2.2955, Accuracy: 27.0916%, \n",
            "\t\tValidation : Loss : 2.2748, Accuracy: 30.3030%, Time: 12.3647s\n",
            "Epoch: 2/25\n",
            "Epoch : 001, Training: Loss: 2.2526, Accuracy: 27.8884%, \n",
            "\t\tValidation : Loss : 2.2194, Accuracy: 31.8182%, Time: 10.1055s\n",
            "Epoch: 3/25\n",
            "Epoch : 002, Training: Loss: 2.1873, Accuracy: 42.6295%, \n",
            "\t\tValidation : Loss : 2.1487, Accuracy: 56.0606%, Time: 11.6144s\n",
            "Epoch: 4/25\n",
            "Epoch : 003, Training: Loss: 2.1052, Accuracy: 55.3785%, \n",
            "\t\tValidation : Loss : 2.0568, Accuracy: 39.3939%, Time: 11.9255s\n",
            "Epoch: 5/25\n",
            "Epoch : 004, Training: Loss: 1.9931, Accuracy: 44.2231%, \n",
            "\t\tValidation : Loss : 1.9307, Accuracy: 39.3939%, Time: 11.7438s\n",
            "Epoch: 6/25\n",
            "Epoch : 005, Training: Loss: 1.8374, Accuracy: 44.2231%, \n",
            "\t\tValidation : Loss : 1.7526, Accuracy: 39.3939%, Time: 9.9117s\n",
            "Epoch: 7/25\n",
            "Epoch : 006, Training: Loss: 1.6218, Accuracy: 44.2231%, \n",
            "\t\tValidation : Loss : 1.5254, Accuracy: 39.3939%, Time: 11.7951s\n",
            "Epoch: 8/25\n",
            "Epoch : 007, Training: Loss: 1.3867, Accuracy: 44.2231%, \n",
            "\t\tValidation : Loss : 1.3196, Accuracy: 39.3939%, Time: 11.8111s\n",
            "Epoch: 9/25\n",
            "Epoch : 008, Training: Loss: 1.2033, Accuracy: 44.2231%, \n",
            "\t\tValidation : Loss : 1.1693, Accuracy: 39.3939%, Time: 11.0050s\n",
            "Epoch: 10/25\n",
            "Epoch : 009, Training: Loss: 1.0919, Accuracy: 44.2231%, \n",
            "\t\tValidation : Loss : 1.0856, Accuracy: 39.3939%, Time: 10.5946s\n",
            "Epoch: 11/25\n",
            "Epoch : 010, Training: Loss: 1.0453, Accuracy: 50.9960%, \n",
            "\t\tValidation : Loss : 1.0433, Accuracy: 48.4848%, Time: 11.7657s\n",
            "Epoch: 12/25\n",
            "Epoch : 011, Training: Loss: 1.0032, Accuracy: 46.6135%, \n",
            "\t\tValidation : Loss : 1.0236, Accuracy: 39.3939%, Time: 11.7816s\n",
            "Epoch: 13/25\n",
            "Epoch : 012, Training: Loss: 0.9786, Accuracy: 52.1912%, \n",
            "\t\tValidation : Loss : 0.9843, Accuracy: 71.2121%, Time: 10.2563s\n",
            "Epoch: 14/25\n",
            "Epoch : 013, Training: Loss: 0.9550, Accuracy: 50.1992%, \n",
            "\t\tValidation : Loss : 0.9653, Accuracy: 48.4848%, Time: 11.2197s\n",
            "Epoch: 15/25\n",
            "Epoch : 014, Training: Loss: 0.9061, Accuracy: 62.9482%, \n",
            "\t\tValidation : Loss : 0.9266, Accuracy: 74.2424%, Time: 11.8046s\n",
            "Epoch: 16/25\n",
            "Epoch : 015, Training: Loss: 0.8782, Accuracy: 73.3068%, \n",
            "\t\tValidation : Loss : 0.8914, Accuracy: 72.7273%, Time: 11.8047s\n",
            "Epoch: 17/25\n",
            "Epoch : 016, Training: Loss: 0.8398, Accuracy: 72.1116%, \n",
            "\t\tValidation : Loss : 0.8525, Accuracy: 78.7879%, Time: 9.8269s\n",
            "Epoch: 18/25\n",
            "Epoch : 017, Training: Loss: 0.7913, Accuracy: 77.2908%, \n",
            "\t\tValidation : Loss : 0.8168, Accuracy: 68.1818%, Time: 11.8516s\n",
            "Epoch: 19/25\n",
            "Epoch : 018, Training: Loss: 0.7567, Accuracy: 72.1116%, \n",
            "\t\tValidation : Loss : 0.7754, Accuracy: 77.2727%, Time: 11.8059s\n",
            "Epoch: 20/25\n",
            "Epoch : 019, Training: Loss: 0.7059, Accuracy: 77.6892%, \n",
            "\t\tValidation : Loss : 0.7342, Accuracy: 77.2727%, Time: 11.2178s\n",
            "Epoch: 21/25\n",
            "Epoch : 020, Training: Loss: 0.6607, Accuracy: 80.8765%, \n",
            "\t\tValidation : Loss : 0.7064, Accuracy: 72.7273%, Time: 10.3488s\n",
            "Epoch: 22/25\n",
            "Epoch : 021, Training: Loss: 0.6231, Accuracy: 77.6892%, \n",
            "\t\tValidation : Loss : 0.6707, Accuracy: 77.2727%, Time: 11.8066s\n",
            "Epoch: 23/25\n",
            "Epoch : 022, Training: Loss: 0.5853, Accuracy: 81.2749%, \n",
            "\t\tValidation : Loss : 0.6521, Accuracy: 75.7576%, Time: 11.8788s\n",
            "Epoch: 24/25\n",
            "Epoch : 023, Training: Loss: 0.5612, Accuracy: 80.4781%, \n",
            "\t\tValidation : Loss : 0.6344, Accuracy: 74.2424%, Time: 10.7961s\n",
            "Epoch: 25/25\n",
            "Epoch : 024, Training: Loss: 0.5452, Accuracy: 78.8845%, \n",
            "\t\tValidation : Loss : 0.6258, Accuracy: 74.2424%, Time: 10.8811s\n"
          ]
        }
      ]
    },
    {
      "cell_type": "code",
      "source": [
        "# 5. Analyze the loss curve\n",
        "\n",
        "history = np.array(history)\n",
        "plt.plot(history[:,0:2])\n",
        "plt.legend(['Tr Loss', 'Val Loss'])\n",
        "plt.xlabel('Epoch Number')\n",
        "plt.ylabel('Loss')\n",
        "plt.ylim(0,3)\n",
        "# plt.savefig('cifar10_loss_curve.png')\n",
        "plt.show()"
      ],
      "metadata": {
        "id": "bynpd4d2CF42",
        "colab": {
          "base_uri": "https://localhost:8080/",
          "height": 455
        },
        "outputId": "92c19785-6040-4c7e-a5cd-39328219ad32"
      },
      "execution_count": 27,
      "outputs": [
        {
          "output_type": "display_data",
          "data": {
            "text/plain": [
              "<Figure size 640x480 with 1 Axes>"
            ],
            "image/png": "[encoded data removed]"
          },
          "metadata": {}
        }
      ]
    },
    {
      "cell_type": "code",
      "source": [
        "# 6. Analyze the accuracy curve\n",
        "\n",
        "plt.plot(history[:,2:4])\n",
        "plt.legend(['Tr Accuracy', 'Val Accuracy'])\n",
        "plt.xlabel('Epoch Number')\n",
        "plt.ylabel('Accuracy')\n",
        "plt.ylim(0,1)\n",
        "# plt.savefig('cifar10_accuracy_curve.png')\n",
        "plt.show()"
      ],
      "metadata": {
        "id": "3rPrfOK9CJAS",
        "colab": {
          "base_uri": "https://localhost:8080/",
          "height": 455
        },
        "outputId": "2dd45b5c-8159-4b96-90df-49f66f2e5315"
      },
      "execution_count": 28,
      "outputs": [
        {
          "output_type": "display_data",
          "data": {
            "text/plain": [
              "<Figure size 640x480 with 1 Axes>"
            ],
            "image/png": "[encoded data removed]"
          },
          "metadata": {}
        }
      ]
    },
    {
      "cell_type": "code",
      "source": [
        "correct = 0\n",
        "total = 0\n",
        "# since we're not training, we don't need to calculate the gradients for our outputs\n",
        "with torch.no_grad():\n",
        "    for data in testloader:\n",
        "#         images, labels = data\n",
        "        images, labels = data[0].to(device), data[1].to(device)\n",
        "        # calculate outputs by running images through the network\n",
        "#         images = images.view(images.size(0), -1)\n",
        "        outputs = model(images)\n",
        "        # the class with the highest energy is what we choose as prediction\n",
        "        _, predicted = torch.max(outputs.data, 1)\n",
        "        total += labels.size(0)\n",
        "        correct += (predicted == labels).sum().item()\n",
        "\n",
        "print(f'Accuracy of the network on the 10000 test images: {100 * correct // total} %')"
      ],
      "metadata": {
        "id": "b4JBcdI4CMVI",
        "colab": {
          "base_uri": "https://localhost:8080/"
        },
        "outputId": "9865362c-6a48-4172-8c2b-d5f45404299f"
      },
      "execution_count": 29,
      "outputs": [
        {
          "output_type": "stream",
          "name": "stdout",
          "text": [
            "Accuracy of the network on the 10000 test images: 74 %\n"
          ]
        }
      ]
    },
    {
      "cell_type": "code",
      "source": [
        "# prepare to count predictions for each class\n",
        "correct_pred = {classname: 0 for classname in classes}\n",
        "total_pred = {classname: 0 for classname in classes}\n",
        "\n",
        "# again no gradients needed\n",
        "with torch.no_grad():\n",
        "    for data in testloader:\n",
        "        images, labels = data[0].to(device), data[1].to(device)\n",
        "#         images = images.view(images.size(0), -1)\n",
        "        outputs = model(images)\n",
        "        _, predictions = torch.max(outputs, 1)\n",
        "        # collect the correct predictions for each class\n",
        "        for label, prediction in zip(labels, predictions):\n",
        "            if label == prediction:\n",
        "                correct_pred[classes[label]] += 1\n",
        "            total_pred[classes[label]] += 1\n",
        "\n",
        "\n",
        "# print accuracy for each class\n",
        "for classname, correct_count in correct_pred.items():\n",
        "    accuracy = 100 * float(correct_count) / total_pred[classname]\n",
        "    print(f'Accuracy for class: {classname:5s} is {accuracy:.1f} %')"
      ],
      "metadata": {
        "id": "ZDEi3CW1CPHy",
        "colab": {
          "base_uri": "https://localhost:8080/"
        },
        "outputId": "6310fef2-92ee-49c8-a343-9dc90d9a17fe"
      },
      "execution_count": 30,
      "outputs": [
        {
          "output_type": "stream",
          "name": "stdout",
          "text": [
            "Accuracy for class: Covid is 76.9 %\n",
            "Accuracy for class: Pneumonia is 65.0 %\n",
            "Accuracy for class: imageNormal1 is 80.0 %\n"
          ]
        }
      ]
    },
    {
      "cell_type": "code",
      "source": [
        "from sklearn.metrics import confusion_matrix\n",
        "import seaborn as sn\n",
        "import pandas as pd\n",
        "\n",
        "y_pred = []\n",
        "y_true = []\n",
        "\n",
        "model.to('cpu')\n",
        "\n",
        "# iterate over test data\n",
        "for inputs, labels in testloader:\n",
        "#         #reshape images so they can be fed to a nn.Linear()\n",
        "#         inputs = inputs.view(inputs.size(0), -1)\n",
        "        output = model(inputs) # Feed Network\n",
        "\n",
        "        output = (torch.max(torch.exp(output), 1)[1]).data.cpu().numpy()\n",
        "        y_pred.extend(output) # Save Prediction\n",
        "\n",
        "        labels = labels.data.cpu().numpy()\n",
        "        y_true.extend(labels) # Save Truth\n",
        "\n",
        "\n",
        "# Build confusion matrix\n",
        "cf_matrix = confusion_matrix(y_true, y_pred)\n",
        "df_cm = pd.DataFrame(cf_matrix/np.sum(cf_matrix) *10, index = [i for i in classes],\n",
        "                     columns = [i for i in classes])\n",
        "plt.figure(figsize = (20,10))\n",
        "sn.heatmap(df_cm, annot=True)\n",
        "# plt.savefig('output.png')"
      ],
      "metadata": {
        "id": "1JlnEgTiCSXE",
        "colab": {
          "base_uri": "https://localhost:8080/",
          "height": 847
        },
        "outputId": "6fc7c124-c31f-49e2-fdea-f29a989adc43"
      },
      "execution_count": 31,
      "outputs": [
        {
          "output_type": "execute_result",
          "data": {
            "text/plain": [
              "<Axes: >"
            ]
          },
          "metadata": {},
          "execution_count": 31
        },
        {
          "output_type": "display_data",
          "data": {
            "text/plain": [
              "<Figure size 2000x1000 with 2 Axes>"
            ],
            "image/png": "[encoded data removed]"
          },
          "metadata": {}
        }
      ]
    }
  ]
}